{
 "cells": [
  {
   "cell_type": "code",
   "execution_count": 2,
   "id": "2547035b-7000-43de-a34c-4c512f6243ed",
   "metadata": {},
   "outputs": [],
   "source": [
    "#methos vs funtions "
   ]
  },
  {
   "cell_type": "code",
   "execution_count": 4,
   "id": "b10756d1-03a2-4453-ad84-3a6a2d39931c",
   "metadata": {},
   "outputs": [],
   "source": [
    "my_name = \"atil\""
   ]
  },
  {
   "cell_type": "code",
   "execution_count": 6,
   "id": "86b8d25b-6421-4ea5-ad47-308805cccaaa",
   "metadata": {},
   "outputs": [
    {
     "data": {
      "text/plain": [
       "'ATIL'"
      ]
     },
     "execution_count": 6,
     "metadata": {},
     "output_type": "execute_result"
    }
   ],
   "source": [
    "my_name.upper()"
   ]
  },
  {
   "cell_type": "code",
   "execution_count": 8,
   "id": "390d17f5-c21c-44ae-b4cc-a764ce588bc6",
   "metadata": {},
   "outputs": [],
   "source": [
    "my_name_upper = my_name.upper()"
   ]
  },
  {
   "cell_type": "code",
   "execution_count": 10,
   "id": "fd65704d-3abf-48ba-a217-95364b03ef3d",
   "metadata": {},
   "outputs": [
    {
     "data": {
      "text/plain": [
       "'ATIL'"
      ]
     },
     "execution_count": 10,
     "metadata": {},
     "output_type": "execute_result"
    }
   ],
   "source": [
    "my_name_upper"
   ]
  },
  {
   "cell_type": "code",
   "execution_count": 12,
   "id": "f3d900ac-4793-4c85-bf09-961b6dc272bc",
   "metadata": {},
   "outputs": [
    {
     "name": "stdout",
     "output_type": "stream",
     "text": [
      "Help on built-in function upper:\n",
      "\n",
      "upper() method of builtins.str instance\n",
      "    Return a copy of the string converted to uppercase.\n",
      "\n"
     ]
    }
   ],
   "source": [
    "help(my_name.upper)"
   ]
  },
  {
   "cell_type": "code",
   "execution_count": 14,
   "id": "0fbafda2-8c14-4bff-a307-e927a5a37885",
   "metadata": {},
   "outputs": [],
   "source": [
    "#funtions -> "
   ]
  },
  {
   "cell_type": "code",
   "execution_count": 16,
   "id": "c1c1444f-d77b-40d4-9876-1efc778aeeb1",
   "metadata": {},
   "outputs": [],
   "source": [
    "def hello_python() : \n",
    "    print(\"hello\")\n",
    "    print(\"python\")"
   ]
  },
  {
   "cell_type": "code",
   "execution_count": 18,
   "id": "311edff4-82a8-4a54-945b-9ba558b72067",
   "metadata": {},
   "outputs": [
    {
     "data": {
      "text/plain": [
       "<function __main__.hello_python()>"
      ]
     },
     "execution_count": 18,
     "metadata": {},
     "output_type": "execute_result"
    }
   ],
   "source": [
    "hello_python"
   ]
  },
  {
   "cell_type": "code",
   "execution_count": 20,
   "id": "b50ffca1-fe84-44d3-9f97-f756f7e8cd51",
   "metadata": {},
   "outputs": [
    {
     "name": "stdout",
     "output_type": "stream",
     "text": [
      "hello\n",
      "python\n"
     ]
    }
   ],
   "source": [
    "hello_python()"
   ]
  },
  {
   "cell_type": "code",
   "execution_count": 22,
   "id": "2652dc2e-d583-44d6-92ec-7b1258d2eae2",
   "metadata": {},
   "outputs": [],
   "source": [
    "#input"
   ]
  },
  {
   "cell_type": "code",
   "execution_count": 24,
   "id": "6bca77ae-588f-4008-b9e3-93173b35f54d",
   "metadata": {},
   "outputs": [],
   "source": [
    "def hello_name(name):\n",
    "    print(\"hello\")\n",
    "    print(name)\n",
    "    "
   ]
  },
  {
   "cell_type": "code",
   "execution_count": 30,
   "id": "1c40250d-989c-40da-b634-e332471a8e66",
   "metadata": {},
   "outputs": [
    {
     "name": "stdout",
     "output_type": "stream",
     "text": [
      "hello\n",
      "ece\n"
     ]
    }
   ],
   "source": [
    "hello_name(\"ece\")"
   ]
  },
  {
   "cell_type": "code",
   "execution_count": 32,
   "id": "031e1fbd-ec58-4868-a82a-5fbe82073385",
   "metadata": {},
   "outputs": [
    {
     "name": "stdout",
     "output_type": "stream",
     "text": [
      "hello\n",
      "mia\n"
     ]
    }
   ],
   "source": [
    "hello_name(\"mia\")"
   ]
  },
  {
   "cell_type": "code",
   "execution_count": 36,
   "id": "32739bf0-a9f9-424c-9e2d-3a445bcc887d",
   "metadata": {},
   "outputs": [],
   "source": [
    "def sum_example(num1,num2):\n",
    "    print(num1+num2)"
   ]
  },
  {
   "cell_type": "code",
   "execution_count": 38,
   "id": "4a0e112d-7ec6-4ee7-99a8-a809b361d362",
   "metadata": {},
   "outputs": [
    {
     "name": "stdout",
     "output_type": "stream",
     "text": [
      "15\n"
     ]
    }
   ],
   "source": [
    "sum_example(5,10)"
   ]
  },
  {
   "cell_type": "code",
   "execution_count": 40,
   "id": "e44163d4-a1b4-4121-83d4-990cb128bd17",
   "metadata": {},
   "outputs": [],
   "source": [
    "def sum_example(num1,num2):\n",
    "    num3 = num1+num2\n",
    "    print(num3)"
   ]
  },
  {
   "cell_type": "code",
   "execution_count": 44,
   "id": "6b9667d2-6ec7-4485-91d4-0bb3cc82a494",
   "metadata": {},
   "outputs": [
    {
     "name": "stdout",
     "output_type": "stream",
     "text": [
      "32\n"
     ]
    }
   ],
   "source": [
    "sum_example(20,12)"
   ]
  },
  {
   "cell_type": "code",
   "execution_count": 48,
   "id": "180a637b-95ad-4ee5-b745-95334e8d30f2",
   "metadata": {},
   "outputs": [
    {
     "name": "stdout",
     "output_type": "stream",
     "text": [
      "hello\n",
      "cihan\n"
     ]
    }
   ],
   "source": [
    "hello_name(\"cihan\")"
   ]
  },
  {
   "cell_type": "code",
   "execution_count": 54,
   "id": "a7fd8f12-c3eb-4c88-918b-a4a4669d65c0",
   "metadata": {},
   "outputs": [],
   "source": [
    "def hello_surname(surname = \"samancioglu\"):\n",
    "    print(\"hello\")\n",
    "   "
   ]
  },
  {
   "cell_type": "code",
   "execution_count": 56,
   "id": "8d3e0fd4-6101-454a-9421-b239ec9b8162",
   "metadata": {},
   "outputs": [
    {
     "name": "stdout",
     "output_type": "stream",
     "text": [
      "hello\n"
     ]
    }
   ],
   "source": [
    "hello_surname()"
   ]
  },
  {
   "cell_type": "code",
   "execution_count": 58,
   "id": "4014943e-8a35-4ed7-82fe-6cbda3b646b0",
   "metadata": {},
   "outputs": [],
   "source": [
    "#return"
   ]
  },
  {
   "cell_type": "code",
   "execution_count": 62,
   "id": "63aa3624-cae8-4ff5-adf1-ead02d602bda",
   "metadata": {},
   "outputs": [],
   "source": [
    "def summation(num1,num2,num3):\n",
    "    print(num1+num2+num3)"
   ]
  },
  {
   "cell_type": "code",
   "execution_count": 64,
   "id": "fe3c91ba-72d2-4b83-8082-9583353aa18b",
   "metadata": {},
   "outputs": [
    {
     "name": "stdout",
     "output_type": "stream",
     "text": [
      "20\n"
     ]
    }
   ],
   "source": [
    "summation(10,2,8)"
   ]
  },
  {
   "cell_type": "code",
   "execution_count": 66,
   "id": "31de1095-664b-4b2a-87e6-8bc3d0473272",
   "metadata": {},
   "outputs": [
    {
     "name": "stdout",
     "output_type": "stream",
     "text": [
      "20\n"
     ]
    }
   ],
   "source": [
    "x =summation(10,2,8)"
   ]
  },
  {
   "cell_type": "code",
   "execution_count": 68,
   "id": "f909ea8e-0114-4999-8370-17377b2e7533",
   "metadata": {},
   "outputs": [],
   "source": [
    "x"
   ]
  },
  {
   "cell_type": "code",
   "execution_count": 70,
   "id": "4cf96c11-46fb-4d00-a117-8f481d9a8729",
   "metadata": {},
   "outputs": [
    {
     "data": {
      "text/plain": [
       "NoneType"
      ]
     },
     "execution_count": 70,
     "metadata": {},
     "output_type": "execute_result"
    }
   ],
   "source": [
    "type(x)"
   ]
  },
  {
   "cell_type": "code",
   "execution_count": 72,
   "id": "fbc710cd-6a91-45f7-a1c3-0bbd9e4c09e4",
   "metadata": {},
   "outputs": [],
   "source": [
    "def summation(num1,num2,num3):\n",
    "    return num1+num2+num3"
   ]
  },
  {
   "cell_type": "code",
   "execution_count": 74,
   "id": "0d15eaa5-eeea-423d-96da-78613a1b30be",
   "metadata": {},
   "outputs": [
    {
     "data": {
      "text/plain": [
       "<function __main__.summation(num1, num2, num3)>"
      ]
     },
     "execution_count": 74,
     "metadata": {},
     "output_type": "execute_result"
    }
   ],
   "source": [
    "summation"
   ]
  },
  {
   "cell_type": "code",
   "execution_count": 76,
   "id": "45b318f6-e7c3-492b-8a2f-ef7c3cd9e70f",
   "metadata": {},
   "outputs": [
    {
     "data": {
      "text/plain": [
       "20"
      ]
     },
     "execution_count": 76,
     "metadata": {},
     "output_type": "execute_result"
    }
   ],
   "source": [
    "summation(2,8,10)"
   ]
  },
  {
   "cell_type": "code",
   "execution_count": 82,
   "id": "982d4bb9-43b5-485b-890f-252954e952ab",
   "metadata": {},
   "outputs": [],
   "source": [
    "x = summation(2,8,10)"
   ]
  },
  {
   "cell_type": "code",
   "execution_count": 84,
   "id": "7078a144-da2e-4a91-9255-95d4b852ebe2",
   "metadata": {},
   "outputs": [
    {
     "data": {
      "text/plain": [
       "20"
      ]
     },
     "execution_count": 84,
     "metadata": {},
     "output_type": "execute_result"
    }
   ],
   "source": [
    "x"
   ]
  },
  {
   "cell_type": "code",
   "execution_count": null,
   "id": "ff3240af-c077-47e2-bc6c-72627b2b8800",
   "metadata": {},
   "outputs": [],
   "source": []
  }
 ],
 "metadata": {
  "kernelspec": {
   "display_name": "Python 3 (ipykernel)",
   "language": "python",
   "name": "python3"
  },
  "language_info": {
   "codemirror_mode": {
    "name": "ipython",
    "version": 3
   },
   "file_extension": ".py",
   "mimetype": "text/x-python",
   "name": "python",
   "nbconvert_exporter": "python",
   "pygments_lexer": "ipython3",
   "version": "3.12.7"
  }
 },
 "nbformat": 4,
 "nbformat_minor": 5
}
